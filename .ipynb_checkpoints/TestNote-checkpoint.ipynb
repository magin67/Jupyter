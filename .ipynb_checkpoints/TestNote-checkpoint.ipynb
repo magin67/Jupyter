{
 "cells": [
  {
   "cell_type": "code",
   "execution_count": null,
   "metadata": {
    "collapsed": false
   },
   "outputs": [],
   "source": [
    "%matplotlib inline\n",
    "import matplotlib.pyplot as plt\n",
    "import numpy as np"
   ]
  },
  {
   "cell_type": "code",
   "execution_count": 14,
   "metadata": {
    "collapsed": false
   },
   "outputs": [],
   "source": [
    "from sympy import *\n",
    "init_printing()"
   ]
  },
  {
   "cell_type": "code",
   "execution_count": 16,
   "metadata": {
    "collapsed": false
   },
   "outputs": [
    {
     "data": {
      "image/png": "[encoded data removed]",
      "text/latex": [
       "$$x^{2} - 1$$"
      ],
      "text/plain": [
       " 2    \n",
       "x  - 1"
      ]
     },
     "execution_count": 16,
     "metadata": {},
     "output_type": "execute_result"
    }
   ],
   "source": [
    "x=Symbol('x')\n",
    "a=x**2-1\n",
    "a"
   ]
  },
  {
   "cell_type": "code",
   "execution_count": 17,
   "metadata": {
    "collapsed": false
   },
   "outputs": [
    {
     "data": {
      "text/latex": [
       "$$\\left[\\begin{matrix}1 & 0 & 0\\\\0 & 2 & 0\\\\0 & 0 & 3\\end{matrix}\\right]$$"
      ],
      "text/plain": [
       "⎡1  0  0⎤\n",
       "⎢       ⎥\n",
       "⎢0  2  0⎥\n",
       "⎢       ⎥\n",
       "⎣0  0  3⎦"
      ]
     },
     "execution_count": 17,
     "metadata": {},
     "output_type": "execute_result"
    }
   ],
   "source": [
    "diag(1,2,3)"
   ]
  },
  {
   "cell_type": "code",
   "execution_count": 19,
   "metadata": {
    "collapsed": false
   },
   "outputs": [
    {
     "data": {
      "text/latex": [
       "$$\\left[\\begin{matrix}0 & a & b\\\\a & 0 & c\\\\b & c & 0\\end{matrix}\\right]$$"
      ],
      "text/plain": [
       "⎡0  a  b⎤\n",
       "⎢       ⎥\n",
       "⎢a  0  c⎥\n",
       "⎢       ⎥\n",
       "⎣b  c  0⎦"
      ]
     },
     "execution_count": 19,
     "metadata": {},
     "output_type": "execute_result"
    }
   ],
   "source": [
    "a,b,c,d,e,f=symbols('a b c d e f')\n",
    "M=Matrix([[0,a,b],[a,0,c],[b,c,0]])\n",
    "M"
   ]
  },
  {
   "cell_type": "code",
   "execution_count": 41,
   "metadata": {
    "collapsed": false
   },
   "outputs": [
    {
     "data": {
      "text/latex": [
       "$$\\left[\\begin{matrix}-3.0\\\\-2.0\\\\3.0\\end{matrix}\\right]$$"
      ],
      "text/plain": [
       "⎡-3.0⎤\n",
       "⎢    ⎥\n",
       "⎢-2.0⎥\n",
       "⎢    ⎥\n",
       "⎣3.0 ⎦"
      ]
     },
     "execution_count": 41,
     "metadata": {},
     "output_type": "execute_result"
    }
   ],
   "source": [
    "l,n=symbols('l n')\n",
    "Lm=Matrix([[l/4,1-l/2,1/2],[1-l/2,l,-1],[1/2,-1,1]])\n",
    "di=Matrix([1,e,d])\n",
    "bi=Lm*di\n",
    "bi=bi.subs({l:1,e:-4.5,d:-2})\n",
    "bi"
   ]
  },
  {
   "cell_type": "markdown",
   "metadata": {},
   "source": [
    "\\begin{array}{c | c c c}\n",
    "D_{ABC} & A &  B & C \\\\\n",
    "\\hline\n",
    "A & 0 & 9 & 16 \\\\\n",
    "B & 9 & 0 & 25 \\\\\n",
    "C & 16 & 25 & 0 \\\\\n",
    "\\end{array}"
   ]
  },
  {
   "cell_type": "markdown",
   "metadata": {},
   "source": [
    "$$Edge(M,\\vec{v},c)=\\begin{pmatrix}\n",
    "c&v'\\\\\n",
    "'v&M\\\\\n",
    "\\end{pmatrix}\\quad(1.2)\n",
    "$$"
   ]
  },
  {
   "cell_type": "code",
   "execution_count": null,
   "metadata": {
    "collapsed": true
   },
   "outputs": [],
   "source": [
    "plt.scatter([p[0] for p in lPoints], [p[1] for p in lPoints], cmap='copper', s=100);"
   ]
  }
 ],
 "metadata": {
  "kernelspec": {
   "display_name": "Python 3",
   "language": "python",
   "name": "python3"
  },
  "language_info": {
   "codemirror_mode": {
    "name": "ipython",
    "version": 3
   },
   "file_extension": ".py",
   "mimetype": "text/x-python",
   "name": "python",
   "nbconvert_exporter": "python",
   "pygments_lexer": "ipython3",
   "version": "3.5.2"
  }
 },
 "nbformat": 4,
 "nbformat_minor": 2
}
