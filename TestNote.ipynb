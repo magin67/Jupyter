{
 "cells": [
  {
   "cell_type": "code",
   "execution_count": 2,
   "metadata": {
    "collapsed": false
   },
   "outputs": [],
   "source": [
    "%matplotlib inline\n",
    "import matplotlib.pyplot as plt\n",
    "import numpy as np"
   ]
  },
  {
   "cell_type": "code",
   "execution_count": 3,
   "metadata": {
    "collapsed": false
   },
   "outputs": [],
   "source": [
    "from sympy import *\n",
    "init_printing()"
   ]
  },
  {
   "cell_type": "code",
   "execution_count": 4,
   "metadata": {
    "collapsed": false
   },
   "outputs": [
    {
     "data": {
      "image/png": "[encoded data removed]",
      "text/latex": [
       "$$x^{2} - 1$$"
      ],
      "text/plain": [
       " 2    \n",
       "x  - 1"
      ]
     },
     "execution_count": 4,
     "metadata": {},
     "output_type": "execute_result"
    }
   ],
   "source": [
    "x=Symbol('x')\n",
    "a=x**2-1\n",
    "a"
   ]
  },
  {
   "cell_type": "code",
   "execution_count": 7,
   "metadata": {
    "collapsed": false
   },
   "outputs": [
    {
     "data": {
      "image/png": "[encoded data removed]",
      "text/latex": [
       "$$6$$"
      ],
      "text/plain": [
       "6"
      ]
     },
     "execution_count": 7,
     "metadata": {},
     "output_type": "execute_result"
    }
   ],
   "source": [
    "md = diag(1,2,3)\n",
    "det(md)"
   ]
  },
  {
   "cell_type": "code",
   "execution_count": 4,
   "metadata": {
    "collapsed": false
   },
   "outputs": [
    {
     "data": {
      "text/latex": [
       "$$\\left[\\begin{matrix}\\frac{c}{a b} & - \\frac{1}{a} & - \\frac{1}{b}\\\\- \\frac{1}{a} & \\frac{b}{a c} & - \\frac{1}{c}\\\\- \\frac{1}{b} & - \\frac{1}{c} & \\frac{a}{b c}\\end{matrix}\\right]$$"
      ],
      "text/plain": [
       "⎡ c   -1   -1 ⎤\n",
       "⎢───  ───  ───⎥\n",
       "⎢a⋅b   a    b ⎥\n",
       "⎢             ⎥\n",
       "⎢-1    b   -1 ⎥\n",
       "⎢───  ───  ───⎥\n",
       "⎢ a   a⋅c   c ⎥\n",
       "⎢             ⎥\n",
       "⎢-1   -1    a ⎥\n",
       "⎢───  ───  ───⎥\n",
       "⎣ b    c   b⋅c⎦"
      ]
     },
     "execution_count": 4,
     "metadata": {},
     "output_type": "execute_result"
    }
   ],
   "source": [
    "a,b,c,d,e,f=symbols('a b c d e f')\n",
    "D2=Matrix([[0,-a/2,-b/2],[-a/2,0,-c/2],[-b/2,-c/2,0]])\n",
    "D2.inv()"
   ]
  },
  {
   "cell_type": "code",
   "execution_count": 39,
   "metadata": {
    "collapsed": false
   },
   "outputs": [
    {
     "data": {
      "text/latex": [
       "$$\\left[\\begin{matrix}- \\frac{a}{2} + \\frac{dpa}{2} + \\frac{dpb}{2} & -1 + \\frac{dpa}{a} - \\frac{dpb}{a} & -1 - \\frac{dpa}{a} + \\frac{dpb}{a}\\end{matrix}\\right]$$"
      ],
      "text/plain": [
       "⎡  a   dpa   dpb       dpa   dpb       dpa   dpb⎤\n",
       "⎢- ─ + ─── + ───  -1 + ─── - ───  -1 - ─── + ───⎥\n",
       "⎣  2    2     2         a     a         a     a ⎦"
      ]
     },
     "execution_count": 39,
     "metadata": {},
     "output_type": "execute_result"
    }
   ],
   "source": [
    "# Две вершины в базисе\n",
    "a, dpa, dpb = symbols('a dpa dpb')\n",
    "Dm = Matrix([[0, 1, 1], [1, 0, -a/2],[1, -a/2, 0]])\n",
    "Lm = Dm.inv() \n",
    "diP = Matrix([[1, -dpa/2, -dpb/2]])\n",
    "biP = diP*Lm\n",
    "nP = expand(diP*biP.T)\n",
    "-2*biP\n",
    "#factor(nP)\n",
    "#simplify(nP)\n",
    "#collect(nP, dpb-dpa)\n",
    "\n"
   ]
  },
  {
   "cell_type": "code",
   "execution_count": 50,
   "metadata": {
    "collapsed": false
   },
   "outputs": [
    {
     "name": "stdout",
     "output_type": "stream",
     "text": [
      "-a*b*c/(a**2 - 2*a*b - 2*a*c + b**2 - 2*b*c + c**2)\n",
      "(a**2*p1 + 2*a*b*c - a*b*p1 - a*b*p2 - a*c*p1 - a*c*p3 + b**2*p2 - b*c*p2 - b*c*p3 + c**2*p3)/(a**2 - 2*a*b - 2*a*c + b**2 - 2*b*c + c**2)\n"
     ]
    }
   ],
   "source": [
    "# Три вершины в базисе\n",
    "a, b, c, p1, p2, p3 = symbols('a b c p1 p2 p3')\n",
    "Dm = Matrix([[0, 1, 1, 1], [1, 0, -c/2, -b/2], [1, -c/2, 0, -a/2], [1, -b/2, -a/2, 0]])\n",
    "Lm = Dm.inv() \n",
    "rs = simplify(Lm[0,0])\n",
    "#diP = Matrix([[1, -p1/2, -p2/2, -p3/2]])\n",
    "biP = diP*Lm\n",
    "mP = simplify(-2*biP[0])\n",
    "print(rs)\n",
    "print(mP)\n",
    "\n",
    "#nP = expand(diP*biP.T)\n",
    "#factor(nP)\n",
    "#simplify(nP)\n",
    "#collect(nP, dpb-dpa)\n"
   ]
  },
  {
   "cell_type": "code",
   "execution_count": 7,
   "metadata": {
    "collapsed": false
   },
   "outputs": [
    {
     "data": {
      "text/latex": [
       "$$\\left[\\begin{matrix}-3.0\\\\-2.0\\\\3.0\\end{matrix}\\right]$$"
      ],
      "text/plain": [
       "⎡-3.0⎤\n",
       "⎢    ⎥\n",
       "⎢-2.0⎥\n",
       "⎢    ⎥\n",
       "⎣3.0 ⎦"
      ]
     },
     "execution_count": 7,
     "metadata": {},
     "output_type": "execute_result"
    }
   ],
   "source": [
    "l,n=symbols('l n')\n",
    "Lm=Matrix([[l/4,1-l/2,1/2],[1-l/2,l,-1],[1/2,-1,1]])\n",
    "di=Matrix([1,e,d])\n",
    "bi=Lm*di\n",
    "bi=bi.subs({l:1,e:-4.5,d:-2})\n",
    "bi"
   ]
  },
  {
   "cell_type": "markdown",
   "metadata": {},
   "source": [
    "\\begin{array}{c | c c c}\n",
    "D_{ABC} & A &  B & C \\\\\n",
    "\\hline\n",
    "A & 0 & 9 & 16 \\\\\n",
    "B & 9 & 0 & 25 \\\\\n",
    "C & 16 & 25 & 0 \\\\\n",
    "\\end{array}"
   ]
  },
  {
   "cell_type": "markdown",
   "metadata": {},
   "source": [
    "$$Edge(M,\\vec{v},c)=\\begin{pmatrix}\n",
    "c&v'\\\\\n",
    "'v&M\\\\\n",
    "\\end{pmatrix}\\quad(1.2)\n",
    "$$"
   ]
  },
  {
   "cell_type": "code",
   "execution_count": 9,
   "metadata": {
    "collapsed": false
   },
   "outputs": [
    {
     "data": {
      "image/png": "[encoded data removed]",
      "text/plain": [
       "<matplotlib.figure.Figure at 0x865d930>"
      ]
     },
     "metadata": {},
     "output_type": "display_data"
    }
   ],
   "source": [
    "lPoints = [[0, 0], [0, 3], [4, 0]] # координаты вершин в декартовой системе\n",
    "plt.scatter([p[0] for p in lPoints], [p[1] for p in lPoints], cmap='copper', s=100);\n",
    "#ax.scatter(vX, vY, s=vSize, c=vZ, cmap=cmap, marker='o', alpha=self.alpha)\n"
   ]
  }
 ],
 "metadata": {
  "kernelspec": {
   "display_name": "Python 3",
   "language": "python",
   "name": "python3"
  },
  "language_info": {
   "codemirror_mode": {
    "name": "ipython",
    "version": 3
   },
   "file_extension": ".py",
   "mimetype": "text/x-python",
   "name": "python",
   "nbconvert_exporter": "python",
   "pygments_lexer": "ipython3",
   "version": "3.5.2"
  }
 },
 "nbformat": 4,
 "nbformat_minor": 2
}
