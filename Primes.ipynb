{
 "cells": [
  {
   "cell_type": "code",
   "execution_count": 79,
   "metadata": {
    "collapsed": false
   },
   "outputs": [
    {
     "data": {
      "text/plain": [
       "1.64493406684823"
      ]
     },
     "execution_count": 79,
     "metadata": {},
     "output_type": "execute_result"
    }
   ],
   "source": [
    "import numpy as np\n",
    "from sympy import prime\n",
    "from sympy.ntheory import factorint\n",
    "from sympy import zeta\n",
    "\n",
    "def Degree(number):\n",
    "    deg=0\n",
    "    for p in factorint(number).values():\n",
    "        deg += p*(p - 1)\n",
    "    return deg\n",
    "\n",
    "def SumDegrees(limit=100):\n",
    "    sum = 0\n",
    "    for i in range(4, limit):\n",
    "        sum += np.sqrt(Degree(i))/i\n",
    "    return sum\n",
    "\n",
    "#factorint(20).values()\n",
    "#l=1000000 #2.2577232156049476\n",
    "#l=2000000 #2.2812389302483496\n",
    "#l=200000\n",
    "#SumDegrees(l)\n",
    "#Degree(128)\n",
    "zeta(2).n()"
   ]
  },
  {
   "cell_type": "markdown",
   "metadata": {},
   "source": [
    "$M(x,1)=\\sum\\limits_{i} \\frac{i}{x^i} = \\frac{2x-1}{x(x-1)^2}$\n",
    "\n",
    "$M(x,2)-M(x,1)=\\sum\\limits_{i} \\frac{i^2-i}{x^i} = \\frac{2x}{(x-1)^3}$\n"
   ]
  }
 ],
 "metadata": {
  "kernelspec": {
   "display_name": "Python 3",
   "language": "python",
   "name": "python3"
  },
  "language_info": {
   "codemirror_mode": {
    "name": "ipython",
    "version": 3
   },
   "file_extension": ".py",
   "mimetype": "text/x-python",
   "name": "python",
   "nbconvert_exporter": "python",
   "pygments_lexer": "ipython3",
   "version": "3.5.2"
  }
 },
 "nbformat": 4,
 "nbformat_minor": 2
}
