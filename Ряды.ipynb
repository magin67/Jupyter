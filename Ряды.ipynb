{
 "cells": [
  {
   "cell_type": "code",
   "execution_count": 110,
   "metadata": {
    "collapsed": true
   },
   "outputs": [],
   "source": [
    "import numpy as np\n",
    "primes=[2,3,5,7,11,13,17,19,23,29,31,37,41,43,47,53,59,61,67,71,73,79,83,89,97,101,103,107,109,113,127]\n",
    "zeta=[-0.5, 0, np.pi**2/6, 1.202056903, np.pi**4/90, 1.036927755, np.pi**6/945, 1.00834927738, np.pi**8/9450, 1.002008392826, np.pi**10/93555]\n",
    "def Zeta(s, iter=10000):\n",
    "    dz = 0\n",
    "    for x in range(1, iter):\n",
    "        dz += 1/x**s\n",
    "    return dz\n"
   ]
  },
  {
   "cell_type": "markdown",
   "metadata": {},
   "source": [
    "$P(x,1)=\\sum\\limits_{i} \\frac{i}{x^i} = \\frac{2x-1}{x(x-1)^2}$\n",
    "\n",
    "$P(x,2)=\\sum\\limits_{i} \\frac{i^2}{x^i} = \\frac{4x^2-3x+1}{x(x-1)^3}$\n",
    "\n",
    "$M(x)=P(x,2)-P(x,1)=\\sum\\limits_{i=1} \\frac{i^2-i}{x^i} = \\frac{2x}{(x-1)^3}$\n",
    "\n",
    "$k(i) = i^2-i$\n",
    "\n",
    "$h = \\frac{1}{2} \\sum\\limits_{x=2} \\sum\\limits_{i} \\frac{k(i)}{x^i} = \\frac{1}{2} \\sum\\limits_{i} (i^2-i) \\sum\\limits_{x=2} \\frac{1}{x^i}$\n",
    "\n",
    "$\\sum\\limits_{x=2} \\frac{1}{x^s}=\\zeta(s)-1$\n",
    "\n",
    "$h = \\sum\\limits_{x=2} \\frac{x}{(x-1)^3} = \\sum\\limits_{i=1} (\\frac{1}{i^2}+\\frac{1}{i^3}) = \\zeta(2) + \\zeta(3)$\n",
    "\n",
    "$h = \\frac{1}{2} \\sum\\limits_{s} s (s-1)(\\zeta(s)-1) = \\zeta(2) + \\zeta(3)$"
   ]
  },
  {
   "cell_type": "markdown",
   "metadata": {},
   "source": [
    "$\\zeta(2) = \\pi^2 /6$\n",
    "\n",
    "$\\zeta(3) = 1,202 056 903 159 594 285 399 738 161 511 449 990 764 986 292$\n",
    "\n",
    "$z(s) = \\zeta(s)-1$\n",
    "\n",
    "$h = z(2) + 3z(3) + 6z(4) + 10z(5) + ... = \\zeta(2) + \\zeta(3) = 2 + z(2) + z(3)$\n",
    "\n",
    "$2z(3) + 6z(4) + 10z(5) + 15z(6) + 21z(7) + ... = 2$\n",
    "\n",
    "$z(3) + \\frac{1}{4}\\sum\\limits_{i=4} i(i-1) z(i) = 1$\n",
    "\n",
    "$\\sum\\limits_{i=2} z(i) = 1$\n",
    "\n",
    "$\\zeta(3) = z(3) + 1 = 2 - \\frac{1}{4}\\sum\\limits_{i=4} i(i-1) z(i)$\n"
   ]
  },
  {
   "cell_type": "code",
   "execution_count": 144,
   "metadata": {
    "collapsed": false
   },
   "outputs": [
    {
     "data": {
      "text/plain": [
       "(1.0823232337242805, 1.082323233710861)"
      ]
     },
     "execution_count": 144,
     "metadata": {},
     "output_type": "execute_result"
    }
   ],
   "source": [
    "def DZ3():\n",
    "    s = 0\n",
    "    for i in range(4, 50):\n",
    "        z = Zeta(i) - 1\n",
    "        s += z*i*(i-1)\n",
    "    return (4-s)/4 + 1\n",
    "\n",
    "def DZ4():\n",
    "    s = 0\n",
    "    for i in range(5, 50):\n",
    "        z = Zeta(i) - 1\n",
    "        s += z*i*(i-1)*(i-2)\n",
    "    return (12-s)/18 + 1\n",
    "\n",
    "DZ4(), Zeta(4)\n"
   ]
  },
  {
   "cell_type": "code",
   "execution_count": 28,
   "metadata": {
    "collapsed": false
   },
   "outputs": [
    {
     "data": {
      "text/plain": [
       "(1.6449290668357415, 1.2020569031485304, 2.8469859699842717)"
      ]
     },
     "execution_count": 28,
     "metadata": {},
     "output_type": "execute_result"
    }
   ],
   "source": [
    "# Значения Дзета-функции и суммы рядов\n",
    "sum1,sum2=0,0\n",
    "# =2*a/(a-1)**3\n",
    "a=5\n",
    "#res=((2*a-1)**2+a)/(a*(a-1)**3)\n",
    "#res=(4*a**2-3*a+1)/(a*(a-1)**3)\n",
    "for i in range(1,200000):\n",
    "    sum1 += 1/i**2\n",
    "    sum2 += 1/i**3\n",
    "sum1, sum2, sum1+sum2"
   ]
  },
  {
   "cell_type": "code",
   "execution_count": 150,
   "metadata": {
    "collapsed": false
   },
   "outputs": [
    {
     "data": {
      "text/plain": [
       "239.99999999999997"
      ]
     },
     "execution_count": 150,
     "metadata": {},
     "output_type": "execute_result"
    }
   ],
   "source": [
    "def S(x): # Sum of i*(i-1)*(i-2)/x**i\n",
    "    return 6*x/(x-1)**4\n",
    "\n",
    "def TestSum(x, iter=100):\n",
    "    res=0\n",
    "    for i in range(1, iter):\n",
    "        res += i*(i-1)*(i-2)*(i-3)*(i-4)/x**i\n",
    "    return res\n",
    "\n",
    "ss = 0\n",
    "for i in range(2, 100000):\n",
    "    ss += S(i)\n",
    "\n",
    "#ss/6 - (zeta[3]+zeta[4])\n",
    "TestSum(2)\n"
   ]
  }
 ],
 "metadata": {
  "kernelspec": {
   "display_name": "Python 3",
   "language": "python",
   "name": "python3"
  },
  "language_info": {
   "codemirror_mode": {
    "name": "ipython",
    "version": 3
   },
   "file_extension": ".py",
   "mimetype": "text/x-python",
   "name": "python",
   "nbconvert_exporter": "python",
   "pygments_lexer": "ipython3",
   "version": "3.5.2"
  }
 },
 "nbformat": 4,
 "nbformat_minor": 2
}
