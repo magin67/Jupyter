{
 "cells": [
  {
   "cell_type": "code",
   "execution_count": 50,
   "metadata": {
    "collapsed": false
   },
   "outputs": [],
   "source": [
    "%matplotlib inline\n",
    "import matplotlib.pyplot as plt\n",
    "import numpy as np\n",
    "\n",
    "#import NetGeometry as ng\n",
    "import NlGeometry as ng"
   ]
  },
  {
   "cell_type": "markdown",
   "metadata": {},
   "source": [
    "Инициализация объектов PointBase - точечный базис с известными метрическими тензорами."
   ]
  },
  {
   "cell_type": "code",
   "execution_count": 53,
   "metadata": {
    "collapsed": false
   },
   "outputs": [
    {
     "ename": "AttributeError",
     "evalue": "module 'NlGeometry' has no attribute 'FullSet'",
     "output_type": "error",
     "traceback": [
      "\u001b[0;31m---------------------------------------------------------------------------\u001b[0m",
      "\u001b[0;31mAttributeError\u001b[0m                            Traceback (most recent call last)",
      "\u001b[0;32m<ipython-input-53-4a9154fbdfcd>\u001b[0m in \u001b[0;36m<module>\u001b[0;34m()\u001b[0m\n\u001b[1;32m     11\u001b[0m \u001b[1;31m# Графы заданной топологии\u001b[0m\u001b[1;33m\u001b[0m\u001b[1;33m\u001b[0m\u001b[0m\n\u001b[1;32m     12\u001b[0m \u001b[0mn\u001b[0m\u001b[1;33m,\u001b[0m \u001b[0mc\u001b[0m \u001b[1;33m=\u001b[0m \u001b[1;36m5\u001b[0m\u001b[1;33m,\u001b[0m \u001b[1;36m1\u001b[0m \u001b[1;31m# количество узлов и вес ребра (сила связи, проводимость)\u001b[0m\u001b[1;33m\u001b[0m\u001b[0m\n\u001b[0;32m---> 13\u001b[0;31m \u001b[0mpbFull\u001b[0m \u001b[1;33m=\u001b[0m \u001b[0mng\u001b[0m\u001b[1;33m.\u001b[0m\u001b[0mFullSet\u001b[0m\u001b[1;33m(\u001b[0m\u001b[0mn\u001b[0m\u001b[1;33m,\u001b[0m \u001b[0mc\u001b[0m\u001b[1;33m)\u001b[0m \u001b[1;31m# полный граф\u001b[0m\u001b[1;33m\u001b[0m\u001b[0m\n\u001b[0m\u001b[1;32m     14\u001b[0m \u001b[0mpbCloseChain\u001b[0m \u001b[1;33m=\u001b[0m \u001b[0mng\u001b[0m\u001b[1;33m.\u001b[0m\u001b[0mChainSet\u001b[0m\u001b[1;33m(\u001b[0m\u001b[0mn\u001b[0m\u001b[1;33m,\u001b[0m \u001b[0mc\u001b[0m\u001b[1;33m,\u001b[0m \u001b[1;32mTrue\u001b[0m\u001b[1;33m)\u001b[0m \u001b[1;31m# замкнутая цепь\u001b[0m\u001b[1;33m\u001b[0m\u001b[0m\n\u001b[1;32m     15\u001b[0m \u001b[0mpbOpenChain\u001b[0m \u001b[1;33m=\u001b[0m \u001b[0mng\u001b[0m\u001b[1;33m.\u001b[0m\u001b[0mChainSet\u001b[0m\u001b[1;33m(\u001b[0m\u001b[0mn\u001b[0m\u001b[1;33m,\u001b[0m \u001b[0mc\u001b[0m\u001b[1;33m,\u001b[0m \u001b[1;32mFalse\u001b[0m\u001b[1;33m)\u001b[0m \u001b[1;31m# разомкнутая цепь\u001b[0m\u001b[1;33m\u001b[0m\u001b[0m\n",
      "\u001b[0;31mAttributeError\u001b[0m: module 'NlGeometry' has no attribute 'FullSet'"
     ]
    }
   ],
   "source": [
    "# Прямоугольный треугольник\n",
    "lPoints = [[0, 0], [0, 3], [4, 0]] # координаты вершин в декартовой системе\n",
    "mDist = ng.Matrix.mDistance(lPoints) # дистанционная матрица (квадраты расстояний)\n",
    "pbRightTriangle = ng.BaseSet(mDist)\n",
    "\n",
    "# Граф из Википедии\n",
    "lConnects = [[1, 2], [2, 3], [3, 4], [4, 5], [4, 6], [1, 5], [2, 5]] # список ребер графа\n",
    "mL = ng.Matrix.mtrLaplacian(ng.Matrix(lConnects).matrix) # лапласиан\n",
    "pbWikigraph = ng.BaseSet(mL, 'Laplacian')\n",
    "\n",
    "# Графы заданной топологии\n",
    "n, c = 5, 1 # количество узлов и вес ребра (сила связи, проводимость)\n",
    "pbFull = ng.FullGraph(n, c) # полный граф\n",
    "pbCloseChain = ng.ChainGraph(n, c, True) # замкнутая цепь\n",
    "pbOpenChain = ng.ChainGraph(n, c, False) # разомкнутая цепь\n",
    "pbStar = ng.StarGraph(n, c) # граф-звезда\n"
   ]
  },
  {
   "cell_type": "markdown",
   "metadata": {},
   "source": [
    "Прямоугольный треугольник - эквивалентен цепочке из двух звеньев:\n",
    "<img src=\"pictures/Треугольник и граф.png\">"
   ]
  },
  {
   "cell_type": "markdown",
   "metadata": {},
   "source": [
    "# Свойства базисов"
   ]
  },
  {
   "cell_type": "markdown",
   "metadata": {},
   "source": [
    "Метрические тензоры. Дистанционный Dm и лапласовский Lm."
   ]
  },
  {
   "cell_type": "code",
   "execution_count": null,
   "metadata": {
    "collapsed": false
   },
   "outputs": [],
   "source": [
    "print(pbRightTriangle.Dm)\n",
    "print()\n",
    "print(pbRightTriangle.Lm)"
   ]
  },
  {
   "cell_type": "markdown",
   "metadata": {},
   "source": [
    "Радиус сферы (окружности) и объем симплекса (здесь - площадь треугольника)"
   ]
  },
  {
   "cell_type": "code",
   "execution_count": 21,
   "metadata": {
    "collapsed": false
   },
   "outputs": [
    {
     "data": {
      "text/plain": [
       "(6.25,\n",
       " <bound method PointBase.volume of <NetGeometry.PointBase object at 0x06221450>>)"
      ]
     },
     "execution_count": 21,
     "metadata": {},
     "output_type": "execute_result"
    }
   ],
   "source": [
    "pbRightTriangle.rs, pbRightTriangle.volume"
   ]
  },
  {
   "cell_type": "markdown",
   "metadata": {},
   "source": [
    "## Индекс симметричности"
   ]
  },
  {
   "cell_type": "markdown",
   "metadata": {},
   "source": [
    "Индекс симметричности любого прямоугольного треугольника равен 8/9:"
   ]
  },
  {
   "cell_type": "code",
   "execution_count": 22,
   "metadata": {
    "collapsed": false
   },
   "outputs": [
    {
     "data": {
      "text/plain": [
       "0.88888888888888884"
      ]
     },
     "execution_count": 22,
     "metadata": {},
     "output_type": "execute_result"
    }
   ],
   "source": [
    "pbRightTriangle.symIndex()"
   ]
  },
  {
   "cell_type": "markdown",
   "metadata": {},
   "source": [
    "Индекс симметричности полного графа и замкнутой цепочки равны 1:"
   ]
  },
  {
   "cell_type": "code",
   "execution_count": 23,
   "metadata": {
    "collapsed": false
   },
   "outputs": [
    {
     "data": {
      "text/plain": [
       "(1.0, 1.0)"
      ]
     },
     "execution_count": 23,
     "metadata": {},
     "output_type": "execute_result"
    }
   ],
   "source": [
    "pbFull.symIndex(), pbCloseChain.symIndex()"
   ]
  },
  {
   "cell_type": "markdown",
   "metadata": {},
   "source": [
    "Индекс симметричности графа-звезды выражается как:\n",
    "\n",
    "$is(n)=4(n-1)/n^2$"
   ]
  },
  {
   "cell_type": "code",
   "execution_count": 24,
   "metadata": {
    "collapsed": false
   },
   "outputs": [
    {
     "data": {
      "text/plain": [
       "(0.64000000000000001, 0.64)"
      ]
     },
     "execution_count": 24,
     "metadata": {},
     "output_type": "execute_result"
    }
   ],
   "source": [
    "pbStar.symIndex(), 4*(n-1)/n**2"
   ]
  },
  {
   "cell_type": "markdown",
   "metadata": {},
   "source": [
    "Для индекса симметричности разомкнутой цепи имеет место следующее выражение:\n",
    "\n",
    "$is(n) = 2(n+1)/3n$"
   ]
  },
  {
   "cell_type": "code",
   "execution_count": 25,
   "metadata": {
    "collapsed": false
   },
   "outputs": [
    {
     "data": {
      "text/plain": [
       "(0.79999999999999993, 0.8)"
      ]
     },
     "execution_count": 25,
     "metadata": {},
     "output_type": "execute_result"
    }
   ],
   "source": [
    "pbOpenChain.symIndex(), 2*(n+1)/(3*n)"
   ]
  },
  {
   "cell_type": "markdown",
   "metadata": {},
   "source": [
    "## Сферическая связность базиса"
   ]
  },
  {
   "cell_type": "markdown",
   "metadata": {},
   "source": [
    "Для полного графа (все узлы связаны со всеми с одной и той же силой связи $c$) выражение для сферической связности $\\chi$ как функции количества узлов графа $n$ имеет вид: \n",
    "\n",
    "$\\chi_{max}(n) = c \\frac{n^2}{n-1}$"
   ]
  },
  {
   "cell_type": "code",
   "execution_count": 26,
   "metadata": {
    "collapsed": false
   },
   "outputs": [
    {
     "data": {
      "text/plain": [
       "(6.25, 6.25)"
      ]
     },
     "execution_count": 26,
     "metadata": {},
     "output_type": "execute_result"
    }
   ],
   "source": [
    "pbFull.connectivity(), c*n**2/(n-1)"
   ]
  },
  {
   "cell_type": "markdown",
   "metadata": {},
   "source": [
    "Минимальная связность при фиксированном количестве узлов $n$ - это связность разомкнутой цепочки или звезды с силой связи $c$ между звеньями:\n",
    "\n",
    "$\\chi_{min}(n)=c \\frac{4}{n-1}$"
   ]
  },
  {
   "cell_type": "code",
   "execution_count": 27,
   "metadata": {
    "collapsed": false
   },
   "outputs": [
    {
     "data": {
      "text/plain": [
       "(1.0, 1.0000000000000004, 1.0)"
      ]
     },
     "execution_count": 27,
     "metadata": {},
     "output_type": "execute_result"
    }
   ],
   "source": [
    "pbStar.connectivity(), pbOpenChain.connectivity(), 4*c/(n-1)"
   ]
  },
  {
   "cell_type": "markdown",
   "metadata": {},
   "source": [
    "Сферическая связность замкнутой цепочки:\n",
    "\n",
    "$\\chi_c(n) = 12c \\frac{n}{n^2-1}$"
   ]
  },
  {
   "cell_type": "code",
   "execution_count": 28,
   "metadata": {
    "collapsed": false
   },
   "outputs": [
    {
     "data": {
      "text/plain": [
       "(2.5, 2.5)"
      ]
     },
     "execution_count": 28,
     "metadata": {},
     "output_type": "execute_result"
    }
   ],
   "source": [
    "pbCloseChain.connectivity(), 12*c*n/(n**2-1)"
   ]
  },
  {
   "cell_type": "markdown",
   "metadata": {},
   "source": [
    "## Свойства графа из Википедии\n",
    "\n",
    "\n",
    "<img src=\"pictures/6n-graf_s.png\">\n",
    "\n",
    "Связность и симметричность:"
   ]
  },
  {
   "cell_type": "code",
   "execution_count": 30,
   "metadata": {
    "collapsed": false
   },
   "outputs": [
    {
     "data": {
      "text/plain": [
       "(1.6632302405498278, 0.77281405116456658)"
      ]
     },
     "execution_count": 30,
     "metadata": {},
     "output_type": "execute_result"
    }
   ],
   "source": [
    "pbWikigraph.connectivity(), pbWikigraph.symIndex()"
   ]
  },
  {
   "cell_type": "markdown",
   "metadata": {},
   "source": [
    "Скалярный потенциал равен 11 - это количество возможных остовов."
   ]
  },
  {
   "cell_type": "code",
   "execution_count": null,
   "metadata": {
    "collapsed": false
   },
   "outputs": [],
   "source": [
    "pbWikigraph.uK"
   ]
  },
  {
   "cell_type": "markdown",
   "metadata": {},
   "source": [
    "Барицентрические координаты центра сферы, удаленность узлов:"
   ]
  },
  {
   "cell_type": "code",
   "execution_count": null,
   "metadata": {
    "collapsed": false
   },
   "outputs": [],
   "source": [
    "print(pbWikigraph.bcSphere)"
   ]
  },
  {
   "cell_type": "markdown",
   "metadata": {},
   "source": [
    "### Свойства wheels & fans"
   ]
  },
  {
   "cell_type": "code",
   "execution_count": null,
   "metadata": {
    "collapsed": false
   },
   "outputs": [],
   "source": [
    "def Fraction(val, limit=1000, acc=0.0000000001):\n",
    "    for i in range(1, limit+1):\n",
    "        ch = val*i\n",
    "        if abs(ch - round(ch)) < acc:\n",
    "            return (round(ch), i)\n",
    "    return (0, 0)\n",
    "\n",
    "#fr = 0.11522443632496149\n",
    "#Fraction(fr, 10000000, 0.0000001)\n",
    "\n",
    "def pbWheels(numArms=5, closed=True):\n",
    "    lConnects = []\n",
    "    for i in range(2, numArms+2):\n",
    "        lConnects.append([1, i])\n",
    "        j = i+1\n",
    "        if j > numArms+1:\n",
    "            if closed: lConnects.append([i, 2])\n",
    "        else:\n",
    "            lConnects.append([i, j])\n",
    "    mL = ng.Matrix.mtrLaplacian(ng.Matrix(lConnects).matrix) # лапласиан\n",
    "    return ng.PointBase(mL, 'Laplacian')\n",
    "\n",
    "pbWheel = pbWheels(5, False) #False\n",
    "#pbWheel.mL\n",
    "#Fraction(pbWheel.bcSphere[1], 10000000, 0.0000001)\n",
    "pbWheel.bcSphere\n",
    "\n",
    "#for n in range(21, 31):\n",
    "#    pbWheel = pbWheels(n, False) #\n",
    "#    print(n, \": \", pbWheel.uK, pbWheel.rs)"
   ]
  },
  {
   "cell_type": "markdown",
   "metadata": {},
   "source": [
    "Wheels могут быть замкнутые и разомкнутые.\n",
    "Замкнутые - есть центр, с которым соединены остальные вершины (как списцы колеса). \n",
    "Вершины также соединены между собой. В итоге кардинальность (степень) каждой вершины - 3 (кроме центральной).\n",
    "Похожи на замкнутую цепь, но с наличием центра.\n",
    "\n",
    "Разомкнутые - как замкнутые, только есть две крайних вершины (обода), между которыми нет связи.\n",
    "Кардинальность крайних вершин - 2.\n",
    "\n",
    "Есть явные выражения для скалярного потенциала (постоянной Кирхгофа) $u(n)$ таких графов.\n",
    "Связаны с числами Фибоначчи $F(n)$. Здесь и далее $(n)$ - количество точек обода (на 1 меньше общего количества вершин).\n",
    "\n",
    "Для разомкнутого колеса:\n",
    "$u(n) = F(2n)$\n",
    "\n",
    "Для замкнутого зависит от четности $n$. Условие $n > 2$.\n",
    "\n",
    "Четные: $u(n) = 5F(n)^2 = 5(F(n-1)F(n+1) - 1)$\n",
    "\n",
    "Нечетные: $uK(n) = 5 F(n)^2 - 4 = 5 F(n-1)F(n+1) + 1$\n",
    "\n",
    "Сложнее с определением связности (обратного радиуса) $w=1/rs$.\n",
    "\n",
    "Для замкнутого колеса связность связана со скалярным потенциалом таким образом:\n",
    "\n",
    "$w(n) = 20u(n) / n(4 + u(n))$\n",
    "\n",
    "Для разомкнутого есть пока только некое приближенное соотношение:\n",
    "\n",
    "$w = 20/(n + 20A)$, где $A = 0.11522443632..$ - непонятная константа, которую хорошо бы распознать.\n",
    "\n",
    "Точность довольно высока. Погрешность для n=3 составляет всего 0.151%, для n=6 - 0.001%, дальше еще меньше.\n",
    "\n",
    "Другой подоход - через скалярный потенциал.\n",
    "\n",
    "$w(n) = 4u(n)^2/K(n)$, где $K(n)$ - некое целое число. \n",
    "\n",
    "Но тут проблема в определении последовательности $K(n)$. Первые числа такие (с n=2):\n",
    "8, 68, 556, 4419, 34440, 264467, и т.д. Непонятно, что за цифры. В энциклопедии такой последовательности нет.\n"
   ]
  },
  {
   "cell_type": "code",
   "execution_count": 32,
   "metadata": {},
   "outputs": [
    {
     "data": {
      "text/plain": [
       "array([[ 1.,  2.,  3.],\n",
       "       [ 1.,  2.,  3.],\n",
       "       [ 1.,  2.,  3.]])"
      ]
     },
     "execution_count": 32,
     "metadata": {},
     "output_type": "execute_result"
    }
   ],
   "source": [
    "norms = np.array([1, 2, 3])\n",
    "ones = np.ones(3)\n",
    "np.outer(ones, norms)"
   ]
  },
  {
   "cell_type": "code",
   "execution_count": null,
   "metadata": {},
   "outputs": [],
   "source": []
  },
  {
   "cell_type": "code",
   "execution_count": null,
   "metadata": {},
   "outputs": [],
   "source": []
  }
 ],
 "metadata": {
  "kernelspec": {
   "display_name": "Python 3",
   "language": "python",
   "name": "python3"
  },
  "language_info": {
   "codemirror_mode": {
    "name": "ipython",
    "version": 3
   },
   "file_extension": ".py",
   "mimetype": "text/x-python",
   "name": "python",
   "nbconvert_exporter": "python",
   "pygments_lexer": "ipython3",
   "version": "3.5.2"
  }
 },
 "nbformat": 4,
 "nbformat_minor": 2
}
