{
 "cells": [
  {
   "cell_type": "code",
   "execution_count": 1,
   "metadata": {
    "collapsed": true
   },
   "outputs": [],
   "source": [
    "%matplotlib inline\n",
    "import matplotlib.pyplot as plt\n",
    "import numpy as np\n",
    "from numpy import linalg as la\n",
    "\n",
    "import NetGeometry as ng"
   ]
  },
  {
   "cell_type": "code",
   "execution_count": 2,
   "metadata": {
    "collapsed": true
   },
   "outputs": [],
   "source": [
    "# Прямоугольный треугольник\n",
    "lPoints = [[0, 0], [0, 3], [4, 0]] # координаты вершин в декартовой системе\n",
    "mDist = ng.Matrix.mDistance(lPoints) # дистанционная матрица (квадраты расстояний)\n",
    "pbRightTriangle = ng.PointBase(mDist)\n",
    "\n",
    "# Граф из Википедии\n",
    "lConnects = [[1, 2], [2, 3], [3, 4], [4, 5], [4, 6], [1, 5], [2, 5]] # список ребер графа\n",
    "mL = ng.Matrix.mtrLaplacian(ng.Matrix(lConnects).matrix) # лапласиан\n",
    "pbWikigraph = ng.PointBase(mL, 'Laplacian')\n",
    "\n",
    "# Графы заданной топологии\n",
    "n, c = 5, 1 # количество узлов и вес ребра (сила связи, проводимость)\n",
    "pbFull = ng.FullPointBase(n, c) # полный граф\n",
    "pbCloseChain = ng.ChainPointBase(n, c, True) # замкнутая цепь\n",
    "pbOpenChain = ng.ChainPointBase(n, c, False) # разомкнутая цепь\n",
    "pbStar = ng.StarPointBase(n, c) # граф-звезда\n",
    "\n",
    "#<img src=\"pictures/Points and vectors.png\">"
   ]
  },
  {
   "cell_type": "markdown",
   "metadata": {},
   "source": [
    "Точечный базис представляет собой набор вершин симплекса или графа с известными значениями двух взаимных метрических тензоров — дистанционного (ДМТ) и лапласовского (ЛМТ). В первой статье описаны свойства данных тензоров. Здесь покажем, что представляют собой координаты точек."
   ]
  },
  {
   "cell_type": "code",
   "execution_count": 8,
   "metadata": {
    "collapsed": false
   },
   "outputs": [
    {
     "data": {
      "text/plain": [
       "array([ 1. , -8.5, -4. , -8.5])"
      ]
     },
     "execution_count": 8,
     "metadata": {},
     "output_type": "execute_result"
    }
   ],
   "source": [
    "lPoints = [[0, 0], [0, 3], [4, 0]] # координаты вершин в декартовой системе\n",
    "vdP = ng.Vector.vDistance([-1, 1, 0], lPoints) # дистанционные кординаты точки P относительно базиса\n",
    "vdQ = ng.Vector.vDistance([2, 3, 2], lPoints)\n",
    "\n",
    "dbP = ng.dbCoord(vdP, pbRightTriangle)\n",
    "dbQ = ng.dbCoord(vdQ, pbRightTriangle)\n",
    "\n",
    "#+ dbQ.norma*np.ones(len(dbQ.di))\n",
    "\n",
    "#dbQ.norma\n",
    "dbQproj = dbQ.projection()\n",
    "dbQproj.norma\n",
    "\n",
    "#ng.dbCoord.distance(dbP, dbQ)\n",
    "#mL = pbRightTriangle.mL\n",
    "#mL = pbRightTriangle.Lm\n",
    "#sG, vG = la.eigh(mL)\n"
   ]
  },
  {
   "cell_type": "markdown",
   "metadata": {},
   "source": [
    "Лапласиан:\n",
    "[0,   0.0771358056,   0.2700864171]\n",
    "\n",
    "[[ 0.57735027, -0.18278431, -0.79577419],\n",
    " [ 0.57735027, -0.59776851,  0.55618295],\n",
    " [ 0.57735027,  0.78055282,  0.23959124]]\n",
    "\n",
    "Лапласовский тензор:\n",
    "[-0.05783843,  0.0762771 ,  0.24866517,  6.33011838]\n",
    "\n",
    "[[ 0.0987376 , -0.00937   ,  0.05332416, -0.99363958],\n",
    " [-0.46148613, -0.23853713,  0.85447384,  0.00224745],\n",
    " [-0.5957106 , -0.62637423, -0.49638273, -0.07992747],\n",
    " [-0.64993102,  0.74206979, -0.14364951, -0.07929013]]\n",
    "       "
   ]
  }
 ],
 "metadata": {
  "kernelspec": {
   "display_name": "Python 3",
   "language": "python",
   "name": "python3"
  },
  "language_info": {
   "codemirror_mode": {
    "name": "ipython",
    "version": 3
   },
   "file_extension": ".py",
   "mimetype": "text/x-python",
   "name": "python",
   "nbconvert_exporter": "python",
   "pygments_lexer": "ipython3",
   "version": "3.5.2"
  }
 },
 "nbformat": 4,
 "nbformat_minor": 2
}
