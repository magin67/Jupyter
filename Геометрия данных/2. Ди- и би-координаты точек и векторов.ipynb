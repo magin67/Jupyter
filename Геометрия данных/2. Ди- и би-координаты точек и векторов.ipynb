{
 "cells": [
  {
   "cell_type": "code",
   "execution_count": 1,
   "metadata": {
    "collapsed": true
   },
   "outputs": [],
   "source": [
    "%matplotlib inline\n",
    "import matplotlib.pyplot as plt\n",
    "import numpy as np\n",
    "from numpy import linalg as la\n",
    "\n",
    "import NetGeometry as ng"
   ]
  },
  {
   "cell_type": "code",
   "execution_count": 2,
   "metadata": {
    "collapsed": true
   },
   "outputs": [],
   "source": [
    "# Прямоугольный треугольник\n",
    "lPoints = [[0, 0], [0, 3], [4, 0]] # координаты вершин в декартовой системе\n",
    "mDist = ng.Matrix.mDistance(lPoints) # дистанционная матрица (квадраты расстояний)\n",
    "pbRightTriangle = ng.PointBase(mDist)\n",
    "\n",
    "# Граф из Википедии\n",
    "lConnects = [[1, 2], [2, 3], [3, 4], [4, 5], [4, 6], [1, 5], [2, 5]] # список ребер графа\n",
    "mL = ng.Matrix.mtrLaplacian(ng.Matrix(lConnects).matrix) # лапласиан\n",
    "pbWikigraph = ng.PointBase(mL, 'Laplacian')\n",
    "\n",
    "# Графы заданной топологии\n",
    "n, c = 5, 1 # количество узлов и вес ребра (сила связи, проводимость)\n",
    "pbFull = ng.FullPointBase(n, c) # полный граф\n",
    "pbCloseChain = ng.ChainPointBase(n, c, True) # замкнутая цепь\n",
    "pbOpenChain = ng.ChainPointBase(n, c, False) # разомкнутая цепь\n",
    "pbStar = ng.StarPointBase(n, c) # граф-звезда\n",
    "\n",
    "#<img src=\"pictures/Points and vectors.png\">"
   ]
  },
  {
   "cell_type": "markdown",
   "metadata": {},
   "source": [
    "Точечный базис представляет собой набор вершин симплекса или графа с известными значениями двух взаимных метрических тензоров — дистанционного (ДМТ) и лапласовского (ЛМТ). В первой статье описаны свойства данных тензоров. Здесь покажем, что представляют собой координаты точек."
   ]
  },
  {
   "cell_type": "code",
   "execution_count": 3,
   "metadata": {
    "collapsed": false
   },
   "outputs": [
    {
     "data": {
      "text/plain": [
       "(-15.999999999999996, 12.0)"
      ]
     },
     "execution_count": 3,
     "metadata": {},
     "output_type": "execute_result"
    }
   ],
   "source": [
    "# norma, power and so on\n",
    "lPoints = [[0, 0], [0, 3], [4, 0]] # координаты вершин в декартовой системе\n",
    "vdP = ng.Vector.vDistance([-1, 1, 0], lPoints) # дистанционные кординаты точки P относительно базиса\n",
    "vdQ = ng.Vector.vDistance([2, 3, 4], lPoints)\n",
    "\n",
    "dbP = ng.dbCoord(vdP, pbRightTriangle)\n",
    "dbQ = ng.dbCoord(vdQ, pbRightTriangle)\n",
    "\n",
    "#+ dbQ.norma*np.ones(len(dbQ.di))\n",
    "\n",
    "dbQ.norma, dbQ.power()\n",
    "\n",
    "#dbQproj = dbQ.projection()\n",
    "#dbQproj.norma\n",
    "\n",
    "#ng.dbCoord.distance(dbP, dbQ)\n"
   ]
  },
  {
   "cell_type": "code",
   "execution_count": 4,
   "metadata": {
    "collapsed": false
   },
   "outputs": [
    {
     "data": {
      "text/plain": [
       "25.0"
      ]
     },
     "execution_count": 4,
     "metadata": {},
     "output_type": "execute_result"
    }
   ],
   "source": [
    "# scalar product\n",
    "lPoints = [[-1, 0, 0], [0, 3, 0], [4, 0, 0], [5, 4, 0]] # координаты вершин в декартовой системе\n",
    "mD = ng.Matrix.mDistance(lPoints)\n",
    "#ng.Matrix.ScalarProduct(mD, [0, 1, 2, 3])\n",
    "ng.Matrix.ScalarProduct(mD, [0, 2, 1, 3])\n"
   ]
  },
  {
   "cell_type": "code",
   "execution_count": 5,
   "metadata": {
    "collapsed": true
   },
   "outputs": [],
   "source": [
    "lPoints = [[0, 0], [0, 3], [4, 0]] # координаты вершин в декартовой системе\n",
    "#plt.scatter([p[0] for p in lPoints], [p[1] for p in lPoints], cmap='copper', s=100);\n",
    "#ax.scatter(vX, vY, s=vSize, c=vZ, cmap=cmap, marker='o', alpha=self.alpha)"
   ]
  },
  {
   "cell_type": "markdown",
   "metadata": {},
   "source": [
    "#mL = pbRightTriangle.mL\n",
    "#mL = pbRightTriangle.Lm\n",
    "#sG, vG = la.eigh(mL)       "
   ]
  }
 ],
 "metadata": {
  "kernelspec": {
   "display_name": "Python 3",
   "language": "python",
   "name": "python3"
  },
  "language_info": {
   "codemirror_mode": {
    "name": "ipython",
    "version": 3
   },
   "file_extension": ".py",
   "mimetype": "text/x-python",
   "name": "python",
   "nbconvert_exporter": "python",
   "pygments_lexer": "ipython3",
   "version": "3.5.2"
  }
 },
 "nbformat": 4,
 "nbformat_minor": 2
}
