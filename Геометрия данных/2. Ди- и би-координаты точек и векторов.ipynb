{
 "cells": [
  {
   "cell_type": "code",
   "execution_count": 1,
   "metadata": {
    "collapsed": true
   },
   "outputs": [],
   "source": [
    "%matplotlib inline\n",
    "import matplotlib.pyplot as plt\n",
    "import numpy as np\n",
    "from numpy import linalg as la\n",
    "\n",
    "#import NetGeometry as ng\n",
    "import NlGeometry as ng"
   ]
  },
  {
   "cell_type": "code",
   "execution_count": 2,
   "metadata": {
    "collapsed": true
   },
   "outputs": [],
   "source": [
    "# Прямоугольный треугольник\n",
    "lPoints = [[0, 0], [0, 3], [4, 0]] # координаты вершин в декартовой системе\n",
    "mDist = ng.Matrix.mDistance(lPoints) # дистанционная матрица (квадраты расстояний)\n",
    "pbRightTriangle = ng.BaseSet(mDist)\n",
    "\n",
    "# Граф из Википедии\n",
    "lConnects = [[1, 2], [2, 3], [3, 4], [4, 5], [4, 6], [1, 5], [2, 5]] # список ребер графа\n",
    "mL = ng.Matrix.mtrLaplacian(ng.Matrix(lConnects).matrix) # лапласиан\n",
    "pbWikigraph = ng.BaseSet(mL, 'Laplacian')\n",
    "\n",
    "# Графы заданной топологии\n",
    "n, c = 5, 1 # количество узлов и вес ребра (сила связи, проводимость)\n",
    "pbFull = ng.FullGraph(n, c) # полный граф\n",
    "pbCloseChain = ng.ChainGraph(n, c, True) # замкнутая цепь\n",
    "pbOpenChain = ng.ChainGraph(n, c, False) # разомкнутая цепь\n",
    "pbStar = ng.StarGraph(n, c) # граф-звезда\n",
    "\n",
    "#<img src=\"pictures/Points and vectors.png\">"
   ]
  },
  {
   "cell_type": "markdown",
   "metadata": {},
   "source": [
    "Базис представляет собой набор элементов с известными метрическими тензорами — мажорный грамиан (Gm) и лапласиан (Lm).\n",
    "Здесь приведены координаты элементов."
   ]
  },
  {
   "cell_type": "code",
   "execution_count": 3,
   "metadata": {
    "collapsed": false
   },
   "outputs": [
    {
     "data": {
      "text/plain": [
       "(-15.999999999999996, 12.0)"
      ]
     },
     "execution_count": 3,
     "metadata": {},
     "output_type": "execute_result"
    }
   ],
   "source": [
    "# norma, power and so on\n",
    "lPoints = [[0, 0], [0, 3], [4, 0]] # координаты вершин в декартовой системе\n",
    "vdP = ng.Tuple.Distance([-1, 1, 0], lPoints) # дистанционные кординаты точки P относительно базиса\n",
    "vdQ = ng.Tuple.Distance([2, 3, 4], lPoints)\n",
    "\n",
    "dbP = ng.dbCoord(vdP, pbRightTriangle)\n",
    "dbQ = ng.dbCoord(vdQ, pbRightTriangle)\n",
    "\n",
    "#+ dbQ.norma*np.ones(len(dbQ.di))\n",
    "\n",
    "dbQ.norma, dbQ.orbital()\n",
    "\n",
    "#dbQproj = dbQ.projection()\n",
    "#dbQproj.norma\n",
    "\n",
    "#ng.dbCoord.distance(dbP, dbQ)\n"
   ]
  },
  {
   "cell_type": "code",
   "execution_count": 4,
   "metadata": {
    "collapsed": false
   },
   "outputs": [
    {
     "data": {
      "text/plain": [
       "25.0"
      ]
     },
     "execution_count": 4,
     "metadata": {},
     "output_type": "execute_result"
    }
   ],
   "source": [
    "# scalar product\n",
    "lPoints = [[-1, 0, 0], [0, 3, 0], [4, 0, 0], [5, 4, 0]] # координаты вершин в декартовой системе\n",
    "mD = ng.Matrix.mDistance(lPoints)\n",
    "#ng.Matrix.ScalarProduct(mD, [0, 1, 2, 3])\n",
    "ng.Matrix.ScalarProduct(mD, [0, 2, 1, 3])\n"
   ]
  },
  {
   "cell_type": "code",
   "execution_count": 5,
   "metadata": {
    "collapsed": true
   },
   "outputs": [],
   "source": [
    "lPoints = [[0, 0], [0, 3], [4, 0]] # координаты вершин в декартовой системе\n",
    "#plt.scatter([p[0] for p in lPoints], [p[1] for p in lPoints], cmap='copper', s=100);\n",
    "#ax.scatter(vX, vY, s=vSize, c=vZ, cmap=cmap, marker='o', alpha=self.alpha)"
   ]
  },
  {
   "cell_type": "markdown",
   "metadata": {},
   "source": [
    "#mL = pbRightTriangle.mL\n",
    "#mL = pbRightTriangle.Lm\n",
    "#sG, vG = la.eigh(mL)       "
   ]
  },
  {
   "cell_type": "code",
   "execution_count": 7,
   "metadata": {
    "collapsed": false
   },
   "outputs": [
    {
     "data": {
      "text/plain": [
       "(1.7499999999999971, 1.75)"
      ]
     },
     "execution_count": 7,
     "metadata": {},
     "output_type": "execute_result"
    }
   ],
   "source": [
    "# Дерево\n",
    "n = 8\n",
    "lConnects = [[1, 2], [1, 3], [2, 4], [2, 5], [3, 6], [3, 7], [4, 8]] # список ребер графа,, [4, 9], [9, 10], [9, 11]\n",
    "mL = ng.Matrix.mtrLaplacian(ng.Matrix(lConnects).matrix) # лапласиан\n",
    "pbTree = ng.BaseSet(mL, 'Laplacian')\n",
    "\n",
    "pbChainT = ng.ChainGraph(n, 1, False) # разомкнутая цепь\n",
    "pbStarT = ng.StarGraph(n, 1) # граф-звезда\n",
    "#pbChainT.connectivity(), pbStarT.connectivity(), pbTree.connectivity()\n",
    "#pbTree.bcCo\n",
    "-la.det(pbTree.mG), pbTree.ro"
   ]
  },
  {
   "cell_type": "code",
   "execution_count": null,
   "metadata": {},
   "outputs": [],
   "source": []
  }
 ],
 "metadata": {
  "kernelspec": {
   "display_name": "Python 3",
   "language": "python",
   "name": "python3"
  },
  "language_info": {
   "codemirror_mode": {
    "name": "ipython",
    "version": 3
   },
   "file_extension": ".py",
   "mimetype": "text/x-python",
   "name": "python",
   "nbconvert_exporter": "python",
   "pygments_lexer": "ipython3",
   "version": "3.5.2"
  }
 },
 "nbformat": 4,
 "nbformat_minor": 2
}
