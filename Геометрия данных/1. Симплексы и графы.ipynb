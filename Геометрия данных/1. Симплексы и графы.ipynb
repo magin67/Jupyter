{
 "cells": [
  {
   "cell_type": "code",
   "execution_count": 1,
   "metadata": {
    "collapsed": false
   },
   "outputs": [],
   "source": [
    "%matplotlib inline\n",
    "import matplotlib.pyplot as plt\n",
    "import numpy as np\n",
    "\n",
    "import NetGeometry as ng"
   ]
  },
  {
   "cell_type": "markdown",
   "metadata": {},
   "source": [
    "Инициализация объектов PointBase - точечный базис с известными метрическими тензорами."
   ]
  },
  {
   "cell_type": "code",
   "execution_count": 2,
   "metadata": {
    "collapsed": false
   },
   "outputs": [],
   "source": [
    "# Прямоугольный треугольник\n",
    "lPoints = [[0, 0], [0, 3], [4, 0]] # координаты вершин в декартовой системе\n",
    "mDist = ng.Matrix.mDistance(lPoints) # дистанционная матрица (квадраты расстояний)\n",
    "pbRightTriangle = ng.PointBase(mDist)\n",
    "\n",
    "# Граф из Википедии\n",
    "lConnects = [[1, 2], [2, 3], [3, 4], [4, 5], [4, 6], [1, 5], [2, 5]] # список ребер графа\n",
    "mL = ng.Matrix.mtrLaplacian(ng.Matrix(lConnects).matrix) # лапласиан\n",
    "pbWikigraph = ng.PointBase(mL, 'Laplacian')\n",
    "\n",
    "# Графы заданной топологии\n",
    "n, c = 5, 1 # количество узлов и вес ребра (сила связи, проводимость)\n",
    "pbFull = ng.FullPointBase(n, c) # полный граф\n",
    "pbCloseChain = ng.ChainPointBase(n, c, True) # замкнутая цепь\n",
    "pbOpenChain = ng.ChainPointBase(n, c, False) # разомкнутая цепь\n",
    "pbStar = ng.StarPointBase(n, c) # граф-звезда\n",
    "\n",
    "#plt.scatter([p[0] for p in lPoints], [p[1] for p in lPoints], cmap='copper', s=100);"
   ]
  },
  {
   "cell_type": "markdown",
   "metadata": {},
   "source": [
    "Прямоугольный треугольник - эквивалентен цепочке из двух звеньев:\n",
    "<img src=\"pictures/Треугольник и граф.png\">"
   ]
  },
  {
   "cell_type": "markdown",
   "metadata": {},
   "source": [
    "# Свойства базисов"
   ]
  },
  {
   "cell_type": "markdown",
   "metadata": {},
   "source": [
    "Метрические тензоры. Дистанционный Dm и лапласовский Lm."
   ]
  },
  {
   "cell_type": "code",
   "execution_count": 3,
   "metadata": {
    "collapsed": false
   },
   "outputs": [
    {
     "name": "stdout",
     "output_type": "stream",
     "text": [
      "[[  0.    1.    1.    1. ]\n",
      " [  1.   -0.   -4.5  -8. ]\n",
      " [  1.   -4.5  -0.  -12.5]\n",
      " [  1.   -8.  -12.5  -0. ]]\n",
      "\n",
      "[[ 6.25        0.          0.5         0.5       ]\n",
      " [-0.          0.17361111 -0.11111111 -0.0625    ]\n",
      " [ 0.5        -0.11111111  0.11111111  0.        ]\n",
      " [ 0.5        -0.0625      0.          0.0625    ]]\n"
     ]
    }
   ],
   "source": [
    "print(pbRightTriangle.Dm)\n",
    "print()\n",
    "print(pbRightTriangle.Lm)"
   ]
  },
  {
   "cell_type": "markdown",
   "metadata": {},
   "source": [
    "Радиус сферы (окружности) и объем симплекса (здесь - площадь треугольника)"
   ]
  },
  {
   "cell_type": "code",
   "execution_count": 4,
   "metadata": {
    "collapsed": false
   },
   "outputs": [
    {
     "data": {
      "text/plain": [
       "(6.25, 6.0)"
      ]
     },
     "execution_count": 4,
     "metadata": {},
     "output_type": "execute_result"
    }
   ],
   "source": [
    "pbRightTriangle.rs, pbRightTriangle.volume"
   ]
  },
  {
   "cell_type": "markdown",
   "metadata": {},
   "source": [
    "## Индекс симметричности"
   ]
  },
  {
   "cell_type": "markdown",
   "metadata": {},
   "source": [
    "Индекс симметричности любого прямоугольного треугольника равен 8/9:"
   ]
  },
  {
   "cell_type": "code",
   "execution_count": 5,
   "metadata": {
    "collapsed": false
   },
   "outputs": [
    {
     "data": {
      "text/plain": [
       "0.88888888888888884"
      ]
     },
     "execution_count": 5,
     "metadata": {},
     "output_type": "execute_result"
    }
   ],
   "source": [
    "pbRightTriangle.symmetry()"
   ]
  },
  {
   "cell_type": "markdown",
   "metadata": {},
   "source": [
    "Индекс симметричности полного графа и замкнутой цепочки равны 1:"
   ]
  },
  {
   "cell_type": "code",
   "execution_count": 6,
   "metadata": {
    "collapsed": false
   },
   "outputs": [
    {
     "data": {
      "text/plain": [
       "(1.0, 1.0)"
      ]
     },
     "execution_count": 6,
     "metadata": {},
     "output_type": "execute_result"
    }
   ],
   "source": [
    "pbFull.symmetry(), pbCloseChain.symmetry()"
   ]
  },
  {
   "cell_type": "markdown",
   "metadata": {},
   "source": [
    "Индекс симметричности графа-звезды выражается как:\n",
    "\n",
    "$is(n)=4(n-1)/n^2$"
   ]
  },
  {
   "cell_type": "code",
   "execution_count": 7,
   "metadata": {
    "collapsed": false
   },
   "outputs": [
    {
     "data": {
      "text/plain": [
       "(0.64000000000000001, 0.64)"
      ]
     },
     "execution_count": 7,
     "metadata": {},
     "output_type": "execute_result"
    }
   ],
   "source": [
    "pbStar.symmetry(), 4*(n-1)/n**2"
   ]
  },
  {
   "cell_type": "markdown",
   "metadata": {},
   "source": [
    "Для индекса симметричности разомкнутой цепи имеет место следующее выражение:\n",
    "\n",
    "$is(n) = 2(n+1)/3n$"
   ]
  },
  {
   "cell_type": "code",
   "execution_count": 8,
   "metadata": {
    "collapsed": false
   },
   "outputs": [
    {
     "data": {
      "text/plain": [
       "(0.79999999999999993, 0.8)"
      ]
     },
     "execution_count": 8,
     "metadata": {},
     "output_type": "execute_result"
    }
   ],
   "source": [
    "pbOpenChain.symmetry(), 2*(n+1)/(3*n)"
   ]
  },
  {
   "cell_type": "markdown",
   "metadata": {},
   "source": [
    "## Сферическая связность базиса"
   ]
  },
  {
   "cell_type": "markdown",
   "metadata": {},
   "source": [
    "Для полного графа (все узлы связаны со всеми с одной и той же силой связи $c$) выражение для сферической связности $\\chi$ как функции количества узлов графа $n$ имеет вид: \n",
    "\n",
    "$\\chi_{max}(n) = c \\frac{n^2}{n-1}$"
   ]
  },
  {
   "cell_type": "code",
   "execution_count": 9,
   "metadata": {
    "collapsed": false
   },
   "outputs": [
    {
     "data": {
      "text/plain": [
       "(6.25, 6.25)"
      ]
     },
     "execution_count": 9,
     "metadata": {},
     "output_type": "execute_result"
    }
   ],
   "source": [
    "pbFull.connectivity(), c*n**2/(n-1)"
   ]
  },
  {
   "cell_type": "markdown",
   "metadata": {},
   "source": [
    "Минимальная связность при фиксированном количестве узлов $n$ - это связность разомкнутой цепочки или звезды с силой связи $c$ между звеньями:\n",
    "\n",
    "$\\chi_{min}(n)=c \\frac{4}{n-1}$"
   ]
  },
  {
   "cell_type": "code",
   "execution_count": 10,
   "metadata": {
    "collapsed": false
   },
   "outputs": [
    {
     "data": {
      "text/plain": [
       "(1.0, 1.0000000000000004, 1.0)"
      ]
     },
     "execution_count": 10,
     "metadata": {},
     "output_type": "execute_result"
    }
   ],
   "source": [
    "pbStar.connectivity(), pbOpenChain.connectivity(), 4*c/(n-1)"
   ]
  },
  {
   "cell_type": "markdown",
   "metadata": {},
   "source": [
    "Сферическая связность замкнутой цепочки:\n",
    "\n",
    "$\\chi_c(n) = 12c \\frac{n}{n^2-1}$"
   ]
  },
  {
   "cell_type": "code",
   "execution_count": 11,
   "metadata": {
    "collapsed": false
   },
   "outputs": [
    {
     "data": {
      "text/plain": [
       "(2.5, 2.5)"
      ]
     },
     "execution_count": 11,
     "metadata": {},
     "output_type": "execute_result"
    }
   ],
   "source": [
    "pbCloseChain.connectivity(), 12*c*n/(n**2-1)"
   ]
  },
  {
   "cell_type": "markdown",
   "metadata": {},
   "source": [
    "## Свойства графа из Википедии\n",
    "\n",
    "\n",
    "<img src=\"pictures/6n-graf_s.png\">\n",
    "\n",
    "Связность и симметричность:"
   ]
  },
  {
   "cell_type": "code",
   "execution_count": 12,
   "metadata": {
    "collapsed": false
   },
   "outputs": [
    {
     "data": {
      "text/plain": [
       "(1.6632302405498278, 0.77281405116456658)"
      ]
     },
     "execution_count": 12,
     "metadata": {},
     "output_type": "execute_result"
    }
   ],
   "source": [
    "pbWikigraph.connectivity(), pbWikigraph.symmetry()"
   ]
  },
  {
   "cell_type": "markdown",
   "metadata": {},
   "source": [
    "Скалярный потенциал равен 11 - это количество возможных остовов."
   ]
  },
  {
   "cell_type": "code",
   "execution_count": 13,
   "metadata": {
    "collapsed": false
   },
   "outputs": [
    {
     "data": {
      "text/plain": [
       "10.999999999999996"
      ]
     },
     "execution_count": 13,
     "metadata": {},
     "output_type": "execute_result"
    }
   ],
   "source": [
    "pbWikigraph.uK"
   ]
  },
  {
   "cell_type": "markdown",
   "metadata": {},
   "source": [
    "Барицентрические координаты центра сферы, удаленность узлов:"
   ]
  },
  {
   "cell_type": "code",
   "execution_count": 14,
   "metadata": {
    "collapsed": false
   },
   "outputs": [
    {
     "name": "stdout",
     "output_type": "stream",
     "text": [
      "[ 0.36363636  0.04545455  0.27272727 -0.22727273  0.04545455  0.5       ]\n"
     ]
    }
   ],
   "source": [
    "print(pbWikigraph.bcSphere)"
   ]
  },
  {
   "cell_type": "code",
   "execution_count": 20,
   "metadata": {
    "collapsed": false
   },
   "outputs": [
    {
     "data": {
      "text/plain": [
       "16.999999915706304"
      ]
     },
     "execution_count": 20,
     "metadata": {},
     "output_type": "execute_result"
    }
   ],
   "source": [
    "#lConnects = [[1,2, 2], [1,3, 1]]\n",
    "#mAdj = ng.Matrix(lConnects).matrix\n",
    "#pb = ng.PointBase(mAdj, 'Connect')\n",
    "#np.linspace(0,10)\n",
    "\n",
    "lPoints = [[0, 0], [0, 3], [4, 0]] # координаты вершин в декартовой системе\n",
    "vdP = ng.Vector.vDistance([-1, 1, 0], lPoints)\n",
    "vdQ = ng.Vector.vDistance([2, 3, 2], lPoints)\n",
    "\n",
    "dbP = ng.dbCoord(vdP, pbRightTriangle)\n",
    "dbQ = ng.dbCoord(vdQ, pbRightTriangle)\n",
    "\n",
    "#dbP.norma()\n",
    "ng.dbCoord.distance(dbP, dbQ)\n",
    "\n",
    "#ng.Matrix.Bilinear(pbRightTriangle.Lm, dbP.di)\n",
    "#ng.Matrix.Bilinear(pbRightTriangle.Dm, dbP.bi)\n",
    "#x = np.array([3,2])\n",
    "#x.resize((1, 3))\n",
    "#x - [1,2,3]\n",
    "#x.resize((1,4))"
   ]
  }
 ],
 "metadata": {
  "kernelspec": {
   "display_name": "Python 3",
   "language": "python",
   "name": "python3"
  },
  "language_info": {
   "codemirror_mode": {
    "name": "ipython",
    "version": 3
   },
   "file_extension": ".py",
   "mimetype": "text/x-python",
   "name": "python",
   "nbconvert_exporter": "python",
   "pygments_lexer": "ipython3",
   "version": "3.5.2"
  }
 },
 "nbformat": 4,
 "nbformat_minor": 2
}
