{
 "cells": [
  {
   "cell_type": "code",
   "execution_count": 1,
   "metadata": {
    "collapsed": false
   },
   "outputs": [],
   "source": [
    "%matplotlib inline\n",
    "import matplotlib.pyplot as plt\n",
    "import numpy as np\n",
    "\n",
    "#import NetGeometry as ng\n",
    "# No\n",
    "import NlGeometry as ng"
   ]
  },
  {
   "cell_type": "markdown",
   "metadata": {},
   "source": [
    "Инициализация объектов PointBase - точечный базис с известными метрическими тензорами."
   ]
  },
  {
   "cell_type": "code",
   "execution_count": 2,
   "metadata": {
    "collapsed": false
   },
   "outputs": [],
   "source": [
    "# Прямоугольный треугольник\n",
    "lPoints = [[0, 0], [0, 3], [4, 0]] # координаты вершин в декартовой системе\n",
    "mDist = ng.Matrix.mDistance(lPoints) # дистанционная матрица (квадраты расстояний)\n",
    "pbRightTriangle = ng.BaseSet(mDist)\n",
    "\n",
    "# Граф из Википедии\n",
    "lConnects = [[1, 2], [2, 3], [3, 4], [4, 5], [4, 6], [1, 5], [2, 5]] # список ребер графа\n",
    "mL = ng.Matrix.mtrLaplacian(ng.Matrix(lConnects).matrix) # лапласиан\n",
    "pbWikigraph = ng.BaseSet(mL, 'Laplacian')\n",
    "\n",
    "# Графы заданной топологии\n",
    "n, c = 5, 1 # количество узлов и вес ребра (сила связи, проводимость)\n",
    "pbFull = ng.FullGraph(n, c) # полный граф\n",
    "pbCloseChain = ng.ChainGraph(n, c, True) # замкнутая цепь\n",
    "pbOpenChain = ng.ChainGraph(n, c, False) # разомкнутая цепь\n",
    "pbStar = ng.StarGraph(n, c) # граф-звезда\n"
   ]
  },
  {
   "cell_type": "markdown",
   "metadata": {},
   "source": [
    "# Свойства базисов"
   ]
  },
  {
   "cell_type": "markdown",
   "metadata": {},
   "source": [
    "Метрические тензоры"
   ]
  },
  {
   "cell_type": "code",
   "execution_count": 3,
   "metadata": {
    "collapsed": false
   },
   "outputs": [
    {
     "name": "stdout",
     "output_type": "stream",
     "text": [
      "[[  0.    1.    1.    1. ]\n",
      " [  1.    0.   -4.5  -8. ]\n",
      " [  1.   -4.5   0.  -12.5]\n",
      " [  1.   -8.  -12.5   0. ]]\n",
      "\n",
      "[[ 6.25        0.          0.5         0.5       ]\n",
      " [-0.          0.17361111 -0.11111111 -0.0625    ]\n",
      " [ 0.5        -0.11111111  0.11111111  0.        ]\n",
      " [ 0.5        -0.0625      0.          0.0625    ]]\n"
     ]
    }
   ],
   "source": [
    "print(pbRightTriangle.Gm)\n",
    "print()\n",
    "print(pbRightTriangle.Lm)"
   ]
  },
  {
   "cell_type": "markdown",
   "metadata": {},
   "source": [
    "Радиус сферы (окружности) и объем симплекса (здесь - площадь треугольника)"
   ]
  },
  {
   "cell_type": "code",
   "execution_count": 4,
   "metadata": {
    "collapsed": false
   },
   "outputs": [
    {
     "data": {
      "text/plain": [
       "(6.25, 6.0)"
      ]
     },
     "execution_count": 4,
     "metadata": {},
     "output_type": "execute_result"
    }
   ],
   "source": [
    "pbRightTriangle.ro, pbRightTriangle.volume()"
   ]
  },
  {
   "cell_type": "markdown",
   "metadata": {},
   "source": [
    "## Индекс симметричности"
   ]
  },
  {
   "cell_type": "markdown",
   "metadata": {},
   "source": [
    "Индекс симметричности любого прямоугольного треугольника равен 8/9:"
   ]
  },
  {
   "cell_type": "code",
   "execution_count": 17,
   "metadata": {
    "collapsed": false
   },
   "outputs": [
    {
     "data": {
      "text/plain": [
       "(0.88888888888888884, 0.8888888888888888)"
      ]
     },
     "execution_count": 17,
     "metadata": {},
     "output_type": "execute_result"
    }
   ],
   "source": [
    "pbRightTriangle.symIndex(), 8/9"
   ]
  },
  {
   "cell_type": "markdown",
   "metadata": {},
   "source": [
    "Индекс симметричности полного графа и замкнутой цепочки равны 1:"
   ]
  },
  {
   "cell_type": "code",
   "execution_count": 7,
   "metadata": {
    "collapsed": false
   },
   "outputs": [
    {
     "data": {
      "text/plain": [
       "(1.0, 1.0)"
      ]
     },
     "execution_count": 7,
     "metadata": {},
     "output_type": "execute_result"
    }
   ],
   "source": [
    "pbFull.symIndex(), pbCloseChain.symIndex()"
   ]
  },
  {
   "cell_type": "markdown",
   "metadata": {},
   "source": [
    "Индекс симметричности графа-звезды выражается как:\n",
    "\n",
    "$is(n)=4(n-1)/n^2$"
   ]
  },
  {
   "cell_type": "code",
   "execution_count": 8,
   "metadata": {
    "collapsed": false
   },
   "outputs": [
    {
     "data": {
      "text/plain": [
       "(0.64000000000000001, 0.64)"
      ]
     },
     "execution_count": 8,
     "metadata": {},
     "output_type": "execute_result"
    }
   ],
   "source": [
    "pbStar.symIndex(), 4*(n-1)/n**2"
   ]
  },
  {
   "cell_type": "markdown",
   "metadata": {},
   "source": [
    "Для индекса симметричности разомкнутой цепи имеет место следующее выражение:\n",
    "\n",
    "$is(n) = 2(n+1)/3n$"
   ]
  },
  {
   "cell_type": "code",
   "execution_count": 9,
   "metadata": {
    "collapsed": false
   },
   "outputs": [
    {
     "data": {
      "text/plain": [
       "(0.79999999999999993, 0.8)"
      ]
     },
     "execution_count": 9,
     "metadata": {},
     "output_type": "execute_result"
    }
   ],
   "source": [
    "pbOpenChain.symIndex(), 2*(n+1)/(3*n)"
   ]
  },
  {
   "cell_type": "markdown",
   "metadata": {},
   "source": [
    "## Ортогональная связность базиса"
   ]
  },
  {
   "cell_type": "markdown",
   "metadata": {},
   "source": [
    "Для полного графа (все узлы связаны со всеми с одной и той же силой связи $c$) выражение для сферической связности $\\chi$ как функции количества узлов графа $n$ имеет вид: \n",
    "\n",
    "$\\chi_{max}(n) = c \\frac{n^2}{n-1}$"
   ]
  },
  {
   "cell_type": "code",
   "execution_count": 18,
   "metadata": {
    "collapsed": false
   },
   "outputs": [
    {
     "data": {
      "text/plain": [
       "(6.25, 6.25)"
      ]
     },
     "execution_count": 18,
     "metadata": {},
     "output_type": "execute_result"
    }
   ],
   "source": [
    "pbFull.connectivity(), c*n**2/(n-1)"
   ]
  },
  {
   "cell_type": "markdown",
   "metadata": {},
   "source": [
    "Минимальная связность при фиксированном количестве узлов $n$ - это связность разомкнутой цепочки или звезды с силой связи $c$ между звеньями:\n",
    "\n",
    "$\\chi_{min}(n)=c \\frac{4}{n-1}$"
   ]
  },
  {
   "cell_type": "code",
   "execution_count": 11,
   "metadata": {
    "collapsed": false
   },
   "outputs": [
    {
     "data": {
      "text/plain": [
       "(1.0, 1.0000000000000004, 1.0)"
      ]
     },
     "execution_count": 11,
     "metadata": {},
     "output_type": "execute_result"
    }
   ],
   "source": [
    "pbStar.connectivity(), pbOpenChain.connectivity(), 4*c/(n-1)"
   ]
  },
  {
   "cell_type": "markdown",
   "metadata": {},
   "source": [
    "Ортогональная связность замкнутой цепочки:\n",
    "\n",
    "$\\chi_c(n) = 12c \\frac{n}{n^2-1}$"
   ]
  },
  {
   "cell_type": "code",
   "execution_count": 12,
   "metadata": {
    "collapsed": false
   },
   "outputs": [
    {
     "data": {
      "text/plain": [
       "(2.5, 2.5)"
      ]
     },
     "execution_count": 12,
     "metadata": {},
     "output_type": "execute_result"
    }
   ],
   "source": [
    "pbCloseChain.connectivity(), 12*c*n/(n**2-1)"
   ]
  },
  {
   "cell_type": "markdown",
   "metadata": {},
   "source": [
    "## Свойства графа из Википедии\n",
    "\n",
    "\n",
    "<img src=\"pictures/6n-graf_s.png\">\n",
    "\n",
    "Связность и симметричность:"
   ]
  },
  {
   "cell_type": "code",
   "execution_count": 13,
   "metadata": {
    "collapsed": false
   },
   "outputs": [
    {
     "data": {
      "text/plain": [
       "(1.6632302405498278, 0.77281405116456658)"
      ]
     },
     "execution_count": 13,
     "metadata": {},
     "output_type": "execute_result"
    }
   ],
   "source": [
    "pbWikigraph.connectivity(), pbWikigraph.symIndex()"
   ]
  },
  {
   "cell_type": "markdown",
   "metadata": {},
   "source": [
    "Скалярный потенциал равен 11 - это количество возможных остовов."
   ]
  },
  {
   "cell_type": "code",
   "execution_count": 14,
   "metadata": {
    "collapsed": false
   },
   "outputs": [
    {
     "data": {
      "text/plain": [
       "10.999999999999996"
      ]
     },
     "execution_count": 14,
     "metadata": {},
     "output_type": "execute_result"
    }
   ],
   "source": [
    "pbWikigraph.cf"
   ]
  },
  {
   "cell_type": "markdown",
   "metadata": {},
   "source": [
    "Барицентрические координаты центра сферы, удаленность узлов:"
   ]
  },
  {
   "cell_type": "code",
   "execution_count": 15,
   "metadata": {
    "collapsed": false
   },
   "outputs": [
    {
     "name": "stdout",
     "output_type": "stream",
     "text": [
      "[ 0.36363636  0.04545455  0.27272727 -0.22727273  0.04545455  0.5       ]\n"
     ]
    }
   ],
   "source": [
    "print(pbWikigraph.bcCo)"
   ]
  },
  {
   "cell_type": "markdown",
   "metadata": {},
   "source": [
    "### Свойства wheels & fans"
   ]
  },
  {
   "cell_type": "code",
   "execution_count": 16,
   "metadata": {
    "collapsed": false
   },
   "outputs": [
    {
     "data": {
      "text/plain": [
       "array([-0.31818182,  0.38181818,  0.17272727,  0.20909091,  0.17272727,\n",
       "        0.38181818])"
      ]
     },
     "execution_count": 16,
     "metadata": {},
     "output_type": "execute_result"
    }
   ],
   "source": [
    "def Fraction(val, limit=1000, acc=0.0000000001):\n",
    "    for i in range(1, limit+1):\n",
    "        ch = val*i\n",
    "        if abs(ch - round(ch)) < acc:\n",
    "            return (round(ch), i)\n",
    "    return (0, 0)\n",
    "\n",
    "#fr = 0.11522443632496149\n",
    "#Fraction(fr, 10000000, 0.0000001)\n",
    "\n",
    "def pbWheels(numArms=5, closed=True):\n",
    "    lConnects = []\n",
    "    for i in range(2, numArms+2):\n",
    "        lConnects.append([1, i])\n",
    "        j = i+1\n",
    "        if j > numArms+1:\n",
    "            if closed: lConnects.append([i, 2])\n",
    "        else:\n",
    "            lConnects.append([i, j])\n",
    "    mL = ng.Matrix.mtrLaplacian(ng.Matrix(lConnects).matrix) # лапласиан\n",
    "    return ng.BaseSet(mL, 'Laplacian')\n",
    "\n",
    "pbWheel = pbWheels(5, False) #False\n",
    "#pbWheel.mL\n",
    "#Fraction(pbWheel.bcSphere[1], 10000000, 0.0000001)\n",
    "pbWheel.bcCo\n",
    "\n",
    "#for n in range(21, 31):\n",
    "#    pbWheel = pbWheels(n, False) #\n",
    "#    print(n, \": \", pbWheel.uK, pbWheel.rs)"
   ]
  },
  {
   "cell_type": "markdown",
   "metadata": {},
   "source": [
    "Wheels могут быть замкнутые и разомкнутые.\n",
    "Замкнутые - есть центр, с которым соединены остальные вершины (как списцы колеса). \n",
    "Вершины также соединены между собой. В итоге кардинальность (степень) каждой вершины - 3 (кроме центральной).\n",
    "Похожи на замкнутую цепь, но с наличием центра.\n",
    "\n",
    "Разомкнутые - как замкнутые, только есть две крайних вершины (обода), между которыми нет связи.\n",
    "Кардинальность крайних вершин - 2.\n",
    "\n",
    "Есть явные выражения для скалярного потенциала (постоянной Кирхгофа) $u(n)$ таких графов.\n",
    "Связаны с числами Фибоначчи $F(n)$. Здесь и далее $(n)$ - количество точек обода (на 1 меньше общего количества вершин).\n",
    "\n",
    "Для разомкнутого колеса:\n",
    "$u(n) = F(2n)$\n",
    "\n",
    "Для замкнутого зависит от четности $n$. Условие $n > 2$.\n",
    "\n",
    "Четные: $u(n) = 5F(n)^2 = 5(F(n-1)F(n+1) - 1)$\n",
    "\n",
    "Нечетные: $uK(n) = 5 F(n)^2 - 4 = 5 F(n-1)F(n+1) + 1$\n",
    "\n",
    "Сложнее с определением связности (обратного радиуса) $w=1/rs$.\n",
    "\n",
    "Для замкнутого колеса связность связана со скалярным потенциалом таким образом:\n",
    "\n",
    "$w(n) = 20u(n) / n(4 + u(n))$\n",
    "\n",
    "Для разомкнутого есть пока только некое приближенное соотношение:\n",
    "\n",
    "$w = 20/(n + 20A)$, где $A = 0.11522443632..$ - непонятная константа, которую хорошо бы распознать.\n",
    "\n",
    "Точность довольно высока. Погрешность для n=3 составляет всего 0.151%, для n=6 - 0.001%, дальше еще меньше.\n",
    "\n",
    "Другой подоход - через скалярный потенциал.\n",
    "\n",
    "$w(n) = 4u(n)^2/K(n)$, где $K(n)$ - некое целое число. \n",
    "\n",
    "Но тут проблема в определении последовательности $K(n)$. Первые числа такие (с n=2):\n",
    "8, 68, 556, 4419, 34440, 264467, и т.д. Непонятно, что за цифры. В энциклопедии такой последовательности нет.\n"
   ]
  },
  {
   "cell_type": "code",
   "execution_count": 32,
   "metadata": {},
   "outputs": [
    {
     "data": {
      "text/plain": [
       "array([[ 1.,  2.,  3.],\n",
       "       [ 1.,  2.,  3.],\n",
       "       [ 1.,  2.,  3.]])"
      ]
     },
     "execution_count": 32,
     "metadata": {},
     "output_type": "execute_result"
    }
   ],
   "source": [
    "norms = np.array([1, 2, 3])\n",
    "ones = np.ones(3)\n",
    "np.outer(ones, norms)"
   ]
  },
  {
   "cell_type": "code",
   "execution_count": null,
   "metadata": {},
   "outputs": [],
   "source": []
  },
  {
   "cell_type": "code",
   "execution_count": null,
   "metadata": {},
   "outputs": [],
   "source": []
  }
 ],
 "metadata": {
  "kernelspec": {
   "display_name": "Python 3",
   "language": "python",
   "name": "python3"
  },
  "language_info": {
   "codemirror_mode": {
    "name": "ipython",
    "version": 3
   },
   "file_extension": ".py",
   "mimetype": "text/x-python",
   "name": "python",
   "nbconvert_exporter": "python",
   "pygments_lexer": "ipython3",
   "version": "3.5.2"
  }
 },
 "nbformat": 4,
 "nbformat_minor": 2
}
